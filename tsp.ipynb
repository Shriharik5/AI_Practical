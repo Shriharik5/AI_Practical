{
 "cells": [
  {
   "cell_type": "code",
   "execution_count": 1,
   "id": "89444bdf",
   "metadata": {},
   "outputs": [
    {
     "name": "stdout",
     "output_type": "stream",
     "text": [
      "Optimal Path: (0, 1, 3, 2)\n",
      "Minimum Cost: 80\n"
     ]
    }
   ],
   "source": [
    "import itertools\n",
    "\n",
    "# Distance matrix\n",
    "dist = [[0, 10, 15, 20],\n",
    "        [10, 0, 35, 25],\n",
    "        [15, 35, 0, 30],\n",
    "        [20, 25, 30, 0]]\n",
    "\n",
    "n = len(dist)\n",
    "cities = range(n)\n",
    "\n",
    "min_path = None\n",
    "min_cost = float(\"inf\")\n",
    "\n",
    "for perm in itertools.permutations(cities):\n",
    "    cost = sum(dist[perm[i]][perm[(i+1) % n]] for i in range(n))\n",
    "    if cost < min_cost:\n",
    "        min_cost = cost\n",
    "        min_path = perm\n",
    "\n",
    "print(\"Optimal Path:\", min_path)\n",
    "print(\"Minimum Cost:\", min_cost)"
   ]
  }
 ],
 "metadata": {
  "kernelspec": {
   "display_name": "Python 3",
   "language": "python",
   "name": "python3"
  },
  "language_info": {
   "codemirror_mode": {
    "name": "ipython",
    "version": 3
   },
   "file_extension": ".py",
   "mimetype": "text/x-python",
   "name": "python",
   "nbconvert_exporter": "python",
   "pygments_lexer": "ipython3",
   "version": "3.12.3"
  }
 },
 "nbformat": 4,
 "nbformat_minor": 5
}
