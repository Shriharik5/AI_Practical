{
 "cells": [
  {
   "cell_type": "code",
   "execution_count": 1,
   "id": "fe76a739",
   "metadata": {},
   "outputs": [
    {
     "name": "stdout",
     "output_type": "stream",
     "text": [
      "Best Solution: 1.2385835348550154\n",
      "Objective Value: -1.6149952431812395\n"
     ]
    }
   ],
   "source": [
    "import math, random\n",
    "\n",
    "def objective(x):\n",
    "    return x**2 + 4*math.cos(2*x)  # Example function\n",
    "\n",
    "def neighbor(x):\n",
    "    return x + random.uniform(-1, 1)\n",
    "\n",
    "x = random.uniform(-10, 10)\n",
    "T = 100\n",
    "cooling = 0.95\n",
    "\n",
    "while T > 0.1:\n",
    "    new_x = neighbor(x)\n",
    "    ΔE = objective(new_x) - objective(x)\n",
    "    if ΔE < 0 or random.random() < math.exp(-ΔE/T):\n",
    "        x = new_x\n",
    "    T *= cooling\n",
    "\n",
    "print(\"Best Solution:\", x)\n",
    "print(\"Objective Value:\", objective(x))"
   ]
  }
 ],
 "metadata": {
  "kernelspec": {
   "display_name": "Python 3",
   "language": "python",
   "name": "python3"
  },
  "language_info": {
   "codemirror_mode": {
    "name": "ipython",
    "version": 3
   },
   "file_extension": ".py",
   "mimetype": "text/x-python",
   "name": "python",
   "nbconvert_exporter": "python",
   "pygments_lexer": "ipython3",
   "version": "3.12.3"
  }
 },
 "nbformat": 4,
 "nbformat_minor": 5
}
