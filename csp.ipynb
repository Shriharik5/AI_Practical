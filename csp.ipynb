{
 "cells": [
  {
   "cell_type": "code",
   "execution_count": null,
   "id": "09d73b63",
   "metadata": {},
   "outputs": [],
   "source": [
    "colors = ['Red', 'Green', 'Blue']\n",
    "neighbors = {\n",
    "    'A': ['B', 'C'],\n",
    "    'B': ['A', 'C'],\n",
    "    'C': ['A', 'B']\n",
    "}\n",
    "\n",
    "def is_valid(node, color, assignment):\n",
    "    for neighbor in neighbors[node]:\n",
    "        if neighbor in assignment and assignment[neighbor] == color:\n",
    "            return False\n",
    "    return True\n",
    "\n",
    "def backtrack(assignment):\n",
    "    if len(assignment) == len(neighbors):\n",
    "        return assignment\n",
    "    node = [n for n in neighbors if n not in assignment][0]\n",
    "    for color in colors:\n",
    "        if is_valid(node, color, assignment):\n",
    "            assignment[node] = color\n",
    "            result = backtrack(assignment)\n",
    "            if result:\n",
    "                return result\n",
    "            del assignment[node]\n",
    "    return None\n",
    "\n",
    "solution = backtrack({})\n",
    "print(\"Map Coloring Solution:\", solution)"
   ]
  }
 ],
 "metadata": {
  "language_info": {
   "name": "python"
  }
 },
 "nbformat": 4,
 "nbformat_minor": 5
}
