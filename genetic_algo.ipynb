{
 "cells": [
  {
   "cell_type": "code",
   "execution_count": 1,
   "id": "f6ec66e0",
   "metadata": {},
   "outputs": [
    {
     "name": "stdout",
     "output_type": "stream",
     "text": [
      "Best Solution: -8.988240826018952\n",
      "Fitness Value: 80.78847314651385\n"
     ]
    }
   ],
   "source": [
    "import random\n",
    "\n",
    "def fitness(x):\n",
    "    return x**2  # Maximize x^2\n",
    "\n",
    "def mutate(x):\n",
    "    return x + random.uniform(-1, 1)\n",
    "\n",
    "population = [random.uniform(-10, 10) for _ in range(10)]\n",
    "\n",
    "for generation in range(50):\n",
    "    population = sorted(population, key=fitness, reverse=True)\n",
    "    parents = population[:2]\n",
    "    children = [mutate(sum(parents)/2) for _ in range(8)]\n",
    "    population = parents + children\n",
    "\n",
    "best = max(population, key=fitness)\n",
    "print(\"Best Solution:\", best)\n",
    "print(\"Fitness Value:\", fitness(best))"
   ]
  }
 ],
 "metadata": {
  "kernelspec": {
   "display_name": "Python 3",
   "language": "python",
   "name": "python3"
  },
  "language_info": {
   "codemirror_mode": {
    "name": "ipython",
    "version": 3
   },
   "file_extension": ".py",
   "mimetype": "text/x-python",
   "name": "python",
   "nbconvert_exporter": "python",
   "pygments_lexer": "ipython3",
   "version": "3.12.3"
  }
 },
 "nbformat": 4,
 "nbformat_minor": 5
}
