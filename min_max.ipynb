{
 "cells": [
  {
   "cell_type": "code",
   "execution_count": 5,
   "id": "74062187",
   "metadata": {},
   "outputs": [
    {
     "name": "stdout",
     "output_type": "stream",
     "text": [
      "Best Score for Maximizer: 10\n"
     ]
    }
   ],
   "source": [
    "import random\n",
    "def min_max(depth, is_maximizing):\n",
    "    scores = [10, -10, 0]  # Example leaf node values\n",
    "    if depth == 0:\n",
    "        return random.choice(scores)\n",
    "\n",
    "    if is_maximizing:\n",
    "        best = -1000\n",
    "        for _ in range(2):\n",
    "            val = min_max(depth-1, False)\n",
    "            best = max(best, val)\n",
    "        return best\n",
    "    else:\n",
    "        best = 1000\n",
    "        for _ in range(2):\n",
    "            val = min_max(depth-1, True)\n",
    "            best = min(best, val)\n",
    "        return best\n",
    "\n",
    "print(\"Best Score for Maximizer:\", min_max(2, True))"
   ]
  }
 ],
 "metadata": {
  "kernelspec": {
   "display_name": "Python 3",
   "language": "python",
   "name": "python3"
  },
  "language_info": {
   "codemirror_mode": {
    "name": "ipython",
    "version": 3
   },
   "file_extension": ".py",
   "mimetype": "text/x-python",
   "name": "python",
   "nbconvert_exporter": "python",
   "pygments_lexer": "ipython3",
   "version": "3.12.3"
  }
 },
 "nbformat": 4,
 "nbformat_minor": 5
}
