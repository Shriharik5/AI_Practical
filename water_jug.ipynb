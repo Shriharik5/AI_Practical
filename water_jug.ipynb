{
 "cells": [
  {
   "cell_type": "code",
   "execution_count": 1,
   "id": "4089dd5f",
   "metadata": {},
   "outputs": [
    {
     "name": "stdout",
     "output_type": "stream",
     "text": [
      "Jug1: 0, Jug2: 0\n",
      "Jug1: 4, Jug2: 0\n",
      "Jug1: 0, Jug2: 3\n",
      "Jug1: 4, Jug2: 3\n",
      "Jug1: 1, Jug2: 3\n",
      "Jug1: 3, Jug2: 0\n",
      "Jug1: 1, Jug2: 0\n",
      "Jug1: 3, Jug2: 3\n",
      "Jug1: 0, Jug2: 1\n",
      "Jug1: 4, Jug2: 2\n",
      "Reached the goal!\n"
     ]
    },
    {
     "data": {
      "text/plain": [
       "True"
      ]
     },
     "execution_count": 1,
     "metadata": {},
     "output_type": "execute_result"
    }
   ],
   "source": [
    "from collections import deque\n",
    "\n",
    "def water_jug_bfs(m, n, d):\n",
    "    visited = set()\n",
    "    queue = deque([(0, 0)])   # start with both jugs empty\n",
    "\n",
    "    while queue:\n",
    "        x, y = queue.popleft()\n",
    "\n",
    "        if (x, y) in visited:\n",
    "            continue\n",
    "        visited.add((x, y))\n",
    "\n",
    "        print(f\"Jug1: {x}, Jug2: {y}\")\n",
    "\n",
    "        # If target is reached\n",
    "        if x == d or y == d:\n",
    "            print(\"Reached the goal!\")\n",
    "            return True\n",
    "\n",
    "        # All possible states\n",
    "        states = [\n",
    "            (m, y),  # Fill jug1\n",
    "            (x, n),  # Fill jug2\n",
    "            (0, y),  # Empty jug1\n",
    "            (x, 0),  # Empty jug2\n",
    "            # Pour jug1 -> jug2\n",
    "            (x - min(x, n - y), y + min(x, n - y)),\n",
    "            # Pour jug2 -> jug1\n",
    "            (x + min(y, m - x), y - min(y, m - x))\n",
    "        ]\n",
    "\n",
    "        for state in states:\n",
    "            if state not in visited:\n",
    "                queue.append(state)\n",
    "\n",
    "    print(\"No solution possible.\")\n",
    "    return False\n",
    "\n",
    "\n",
    "# Example: Jug capacities 4 and 3 liters, target 2 liters\n",
    "water_jug_bfs(4, 3, 2)\n"
   ]
  }
 ],
 "metadata": {
  "kernelspec": {
   "display_name": "Python 3",
   "language": "python",
   "name": "python3"
  },
  "language_info": {
   "codemirror_mode": {
    "name": "ipython",
    "version": 3
   },
   "file_extension": ".py",
   "mimetype": "text/x-python",
   "name": "python",
   "nbconvert_exporter": "python",
   "pygments_lexer": "ipython3",
   "version": "3.12.3"
  }
 },
 "nbformat": 4,
 "nbformat_minor": 5
}
