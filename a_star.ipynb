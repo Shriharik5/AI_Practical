{
 "cells": [
  {
   "cell_type": "code",
   "execution_count": 1,
   "id": "11a40656",
   "metadata": {},
   "outputs": [
    {
     "name": "stdout",
     "output_type": "stream",
     "text": [
      "Optimal Path using A*:  ['A', 'B', 'E', 'G']\n"
     ]
    }
   ],
   "source": [
    "from queue import PriorityQueue\n",
    "\n",
    "def a_star(graph, start, goal, heuristic):\n",
    "    open_list = PriorityQueue()\n",
    "    open_list.put((0, start))\n",
    "    came_from = {}\n",
    "    g_score = {node: float(\"inf\") for node in graph}\n",
    "    g_score[start] = 0\n",
    "\n",
    "    while not open_list.empty():\n",
    "        _, current = open_list.get()\n",
    "\n",
    "        if current == goal:\n",
    "            path = []\n",
    "            while current in came_from:\n",
    "                path.append(current)\n",
    "                current = came_from[current]\n",
    "            path.append(start)\n",
    "            return path[::-1]\n",
    "\n",
    "        for neighbor, cost in graph[current].items():\n",
    "            temp_g = g_score[current] + cost\n",
    "            if temp_g < g_score[neighbor]:\n",
    "                came_from[neighbor] = current\n",
    "                g_score[neighbor] = temp_g\n",
    "                f_score = temp_g + heuristic[neighbor]\n",
    "                open_list.put((f_score, neighbor))\n",
    "    return None\n",
    "\n",
    "\n",
    "# Example graph\n",
    "graph = {\n",
    "    'A': {'B': 1, 'C': 3},\n",
    "    'B': {'A': 1, 'D': 3, 'E': 1},\n",
    "    'C': {'A': 3, 'F': 5},\n",
    "    'D': {'B': 3, 'G': 2},\n",
    "    'E': {'B': 1, 'G': 1},\n",
    "    'F': {'C': 5, 'G': 2},\n",
    "    'G': {}\n",
    "}\n",
    "\n",
    "heuristic = {\n",
    "    'A': 7, 'B': 6, 'C': 5,\n",
    "    'D': 4, 'E': 2, 'F': 3,\n",
    "    'G': 0\n",
    "}\n",
    "\n",
    "path = a_star(graph, 'A', 'G', heuristic)\n",
    "print(\"Optimal Path using A*: \", path)\n"
   ]
  }
 ],
 "metadata": {
  "kernelspec": {
   "display_name": "Python 3",
   "language": "python",
   "name": "python3"
  },
  "language_info": {
   "codemirror_mode": {
    "name": "ipython",
    "version": 3
   },
   "file_extension": ".py",
   "mimetype": "text/x-python",
   "name": "python",
   "nbconvert_exporter": "python",
   "pygments_lexer": "ipython3",
   "version": "3.12.3"
  }
 },
 "nbformat": 4,
 "nbformat_minor": 5
}
