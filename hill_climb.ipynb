{
 "cells": [
  {
   "cell_type": "code",
   "execution_count": 1,
   "id": "adc8e7ca",
   "metadata": {},
   "outputs": [
    {
     "name": "stdout",
     "output_type": "stream",
     "text": [
      "Starting point: -2.9637389999755337\n",
      "Solution found: 3.0362610000244694\n",
      "Maximum value: 8.998685139877226\n"
     ]
    }
   ],
   "source": [
    "import random\n",
    "\n",
    "def hill_climb(func, start, step_size=0.1, max_iterations=100):\n",
    "    current = start\n",
    "    for _ in range(max_iterations):\n",
    "        # Generate neighbors\n",
    "        neighbors = [current + step_size, current - step_size]\n",
    "        # Evaluate neighbors\n",
    "        next_move = max(neighbors, key=func)\n",
    "        if func(next_move) > func(current):\n",
    "            current = next_move\n",
    "        else:\n",
    "            break\n",
    "    return current, func(current)\n",
    "\n",
    "# Function to maximize\n",
    "def f(x):\n",
    "    return -(x - 3) ** 2 + 9\n",
    "\n",
    "start = random.uniform(-10, 10)\n",
    "solution, value = hill_climb(f, start)\n",
    "\n",
    "print(\"Starting point:\", start)\n",
    "print(\"Solution found:\", solution)\n",
    "print(\"Maximum value:\", value)\n"
   ]
  }
 ],
 "metadata": {
  "kernelspec": {
   "display_name": "Python 3",
   "language": "python",
   "name": "python3"
  },
  "language_info": {
   "codemirror_mode": {
    "name": "ipython",
    "version": 3
   },
   "file_extension": ".py",
   "mimetype": "text/x-python",
   "name": "python",
   "nbconvert_exporter": "python",
   "pygments_lexer": "ipython3",
   "version": "3.12.3"
  }
 },
 "nbformat": 4,
 "nbformat_minor": 5
}
